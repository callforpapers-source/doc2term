{
 "cells": [
  {
   "cell_type": "markdown",
   "metadata": {},
   "source": [
    "# doc2term\n"
   ]
  },
  {
   "cell_type": "code",
   "execution_count": 1,
   "metadata": {
    "collapsed": false,
    "jupyter": {
     "outputs_hidden": false
    }
   },
   "outputs": [],
   "source": [
    "import doc2term"
   ]
  },
  {
   "cell_type": "markdown",
   "metadata": {},
   "source": [
    "## General parameters\n",
    "\n",
    "<b> inp </b>: input file name\n",
    "\n",
    "<b> out </b>: output file name\n",
    "\n",
    "<b> section </b>: which section of data do you want? 0 means all, 1 means token identifiers, 2 means tokens, and 3 means metadata\n",
    "\n",
    "<b> format </b>: in which format the output should be? 'str' or 'list'?"
   ]
  },
  {
   "cell_type": "markdown",
   "metadata": {},
   "source": [
    "## doc2term(inp, out, section=0)"
   ]
  },
  {
   "cell_type": "markdown",
   "metadata": {},
   "source": [
    "Run doc2term to execute the doc2term on simple-docs file."
   ]
  },
  {
   "cell_type": "code",
   "execution_count": 2,
   "metadata": {
    "collapsed": false,
    "jupyter": {
     "outputs_hidden": false
    }
   },
   "outputs": [],
   "source": [
    "doc2term.doc2term('../data/test/simple-docs', '../data/test/simple-docs-output')"
   ]
  },
  {
   "cell_type": "markdown",
   "metadata": {
    "tags": []
   },
   "source": [
    "This created a `simple-docs-output` file that we can use as an input for ngram and other process."
   ]
  },
  {
   "cell_type": "markdown",
   "metadata": {
    "tags": []
   },
   "source": [
    "## doc2term_str(text, section=1, format='str')"
   ]
  },
  {
   "cell_type": "code",
   "execution_count": 3,
   "metadata": {},
   "outputs": [
    {
     "data": {
      "text/plain": [
       "\"I can only offer the cliche retort . I don't know why I did it . I just did it .\""
      ]
     },
     "execution_count": 3,
     "metadata": {},
     "output_type": "execute_result"
    }
   ],
   "source": [
    "doc2term.doc2term_str('''I can only offer the cliche retort: \\n\" I don't know why I did it.. - I just did it!!''')"
   ]
  },
  {
   "cell_type": "markdown",
   "metadata": {},
   "source": [
    "Document structure is like the following example:"
   ]
  },
  {
   "cell_type": "code",
   "execution_count": 4,
   "metadata": {},
   "outputs": [
    {
     "data": {
      "text/plain": [
       "'doc1\\ndoc2\\ndoc3'"
      ]
     },
     "execution_count": 4,
     "metadata": {},
     "output_type": "execute_result"
    }
   ],
   "source": [
    "doc2term.doc2term_str('doc1\\ndoc2\\ndoc3')"
   ]
  },
  {
   "cell_type": "markdown",
   "metadata": {},
   "source": [
    "If you want term identifiers and the rest data, just adjust section to zero:"
   ]
  },
  {
   "cell_type": "code",
   "execution_count": 6,
   "metadata": {},
   "outputs": [
    {
     "data": {
      "text/plain": [
       "'TSTTDTSTDTSTD\\n$$tokens$$\\ndoc1 . term1 term2\\ndoc2 . term1-term2\\ndoc3 . term1\\n\\n$$meta$$\\n3 2 2 '"
      ]
     },
     "execution_count": 6,
     "metadata": {},
     "output_type": "execute_result"
    }
   ],
   "source": [
    "doc2term.doc2term_str('doc1: term1 term2\\ndoc2: term1-term2\\ndoc3: term1', section=0)"
   ]
  },
  {
   "cell_type": "markdown",
   "metadata": {},
   "source": [
    "<b>identifiers</b>: the first line is `TSTTDTSTDTSTD`, which is identifier:\n",
    "\n",
    "CHARACTER                               | Description\n",
    "---------------------|---------------------------------------\n",
    "<kbd>T</kbd>         | Term or a phrase. i.e network-manager\n",
    "<kbd>N</kbd>         | Numbers. Formats: `22:10` or `2.2` or `2_3`\n",
    "<kbd>S</kbd>       \t | Sentence separator.\n",
    "<kbd>E</kbd>         | Email address. Formats: `mailto:a@b.com` or `a@b.com`\n",
    "<kbd>H</kbd>         | Hostname.\n",
    "<kbd>P</kbd>         | Phone number. Formats: `+1-2222222222` or `+1 222222222`\n",
    "<kbd>F</kbd>         | Filename.\n",
    "<kbd>U</kbd>         | URL.\n",
    "<kbd>D</kbd>         | New document.\n",
    "\n",
    "<b>tokens</b>: This section contains integrated and standardized documents.\n",
    "\n",
    "<b>meta</b>: Some information about the documents. the first line is used for ngram(i.e 5, which means the first doc can only do <5gram). The max is 5. The next line is the number of documents.\n"
   ]
  },
  {
   "cell_type": "markdown",
   "metadata": {},
   "source": [
    "The output also can be in list format. Look at the following example:"
   ]
  },
  {
   "cell_type": "code",
   "execution_count": 7,
   "metadata": {},
   "outputs": [
    {
     "data": {
      "text/plain": [
       "['doc1', 'doc2', 'doc3']"
      ]
     },
     "execution_count": 7,
     "metadata": {},
     "output_type": "execute_result"
    }
   ],
   "source": [
    "doc2term.doc2term_str('doc1\\ndoc2\\ndoc3', format='list')"
   ]
  },
  {
   "cell_type": "markdown",
   "metadata": {
    "tags": []
   },
   "source": [
    "## doc2term_list([doc1, doc2, ..], section=2, format='list')"
   ]
  },
  {
   "cell_type": "code",
   "execution_count": 5,
   "metadata": {},
   "outputs": [
    {
     "data": {
      "text/plain": [
       "['The quality of having experience knowledge and good judgement . the quality of being wise .',\n",
       " 'The fact of being based on sensible or wise thinking . wisdom .',\n",
       " 'An example of wisdom is the quote . The best mind altering drug is truth . The ability to make a decision based on the combination of knowledge experience and intuitive understanding .']"
      ]
     },
     "execution_count": 5,
     "metadata": {},
     "output_type": "execute_result"
    }
   ],
   "source": [
    "doc2term.doc2term_list([\n",
    "    'The quality of having experience, knowledge, and good judgement; the quality of being wise...',\n",
    "    'The fact of being based on sensible or wise thinking(wisdom)!!',\n",
    "    'An example of wisdom is the quote \"The best mind altering drug is truth.\" ... The ability to make a decision based on the combination of knowledge, experience, and intuitive understanding.'\n",
    "])"
   ]
  }
 ],
 "metadata": {
  "kernelspec": {
   "display_name": "Python 3",
   "language": "python",
   "name": "python3"
  },
  "language_info": {
   "codemirror_mode": {
    "name": "ipython",
    "version": 3
   },
   "file_extension": ".py",
   "mimetype": "text/x-python",
   "name": "python",
   "nbconvert_exporter": "python",
   "pygments_lexer": "ipython3",
   "version": "3.9.2"
  }
 },
 "nbformat": 4,
 "nbformat_minor": 4
}
