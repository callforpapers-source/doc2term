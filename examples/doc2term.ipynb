{
 "cells": [
  {
   "cell_type": "markdown",
   "metadata": {},
   "source": [
    "# doc2term\n"
   ]
  },
  {
   "cell_type": "code",
   "execution_count": 3,
   "metadata": {
    "jupyter": {
     "outputs_hidden": false
    }
   },
   "outputs": [],
   "source": [
    "import doc2term"
   ]
  },
  {
   "cell_type": "markdown",
   "metadata": {},
   "source": [
    "## General parameters\n",
    "\n",
    "<b> inp </b>: input file name\n",
    "\n",
    "<b> out </b>: output file name\n",
    "\n",
    "<b> section </b>: which section of data do you want? 0 means all, 1 means token identifiers, 2 means tokens, and 3 means metadata\n",
    "\n",
    "<b> include_numbers_dates </b>: If it is equal to One, it means that the output shouldn't remove numbers and dates\n",
    "            default is zero.\n",
    "<b> include_emails_phones_urls </b>:  If it is equal to One, it means that the output shouldn't remove emails,      phones, and urls.\n",
    "            default is zero\n",
    "<b> include_hosts_files </b>: If it is equal to One, it means that the output shouldn't remove hosts and files.\n",
    "            default is zero\n",
    "\n",
    "<b> format </b>: in which format the output should be? 'str' or 'list'?"
   ]
  },
  {
   "cell_type": "markdown",
   "metadata": {},
   "source": [
    "## doc2term"
   ]
  },
  {
   "cell_type": "markdown",
   "metadata": {},
   "source": [
    "Run doc2term to execute the doc2term on simple-docs file."
   ]
  },
  {
   "cell_type": "code",
   "execution_count": 2,
   "metadata": {
    "jupyter": {
     "outputs_hidden": false
    }
   },
   "outputs": [],
   "source": [
    "doc2term.doc2term('../data/test/simple-docs', '../data/test/simple-docs-output')"
   ]
  },
  {
   "cell_type": "markdown",
   "metadata": {},
   "source": [
    "# doc2term_str"
   ]
  },
  {
   "cell_type": "code",
   "execution_count": 6,
   "metadata": {},
   "outputs": [
    {
     "data": {
      "text/plain": [
       "'body . days ago By Frank Pallotta CNN Business . Saturday Night Live is back and with it came a new President'"
      ]
     },
     "execution_count": 6,
     "metadata": {},
     "output_type": "execute_result"
    }
   ],
   "source": [
    "doc2term.doc2term_str(\"'body: '2 days ago \\u2014 By Frank Pallotta, CNN Business. \\u201cSaturday Night Live\\u201d is back, and with it came a new President \")"
   ]
  },
  {
   "cell_type": "code",
   "execution_count": null,
   "metadata": {},
   "outputs": [],
   "source": []
  }
 ],
 "metadata": {
  "kernelspec": {
   "display_name": "Python 3",
   "language": "python",
   "name": "python3"
  },
  "language_info": {
   "codemirror_mode": {
    "name": "ipython",
    "version": 3
   },
   "file_extension": ".py",
   "mimetype": "text/x-python",
   "name": "python",
   "nbconvert_exporter": "python",
   "pygments_lexer": "ipython3",
   "version": "3.9.7"
  }
 },
 "nbformat": 4,
 "nbformat_minor": 4
}
